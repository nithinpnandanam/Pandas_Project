{
 "cells": [
  {
   "cell_type": "markdown",
   "id": "5ea23e25",
   "metadata": {},
   "source": [
    "Given file \"terrorismData.csv\"\n",
    "It is an open-source database including information on terrorist attacks around the world from 1970 through 2017. This dataset includes systematic data on domestic as well as international terrorist incidents that have occurred during this time period"
   ]
  },
  {
   "cell_type": "markdown",
   "id": "5e34ffb1",
   "metadata": {},
   "source": [
    "Problem Statement :\n",
    "The Most Dangerous city in Jammu and Kashmir and the terrorist group which is most active in that city?\n",
    "Print count of number of attacks in that city as integer value.\n",
    "Note:Ignoring the Unknown Terrorist Group.\n",
    "Here Dangerous related with the number of terrorist attacks."
   ]
  },
  {
   "cell_type": "code",
   "execution_count": 1,
   "id": "a878537e",
   "metadata": {},
   "outputs": [
    {
     "name": "stdout",
     "output_type": "stream",
     "text": [
      "Srinagar 657 Muslim Separatists\n"
     ]
    }
   ],
   "source": [
    "import pandas as pd\n",
    "df=pd.read_csv('terrorismData.csv')\n",
    "a=df[df['State']=='Jammu and Kashmir']\n",
    "city=a['City'].value_counts()\n",
    "print(city.index[0],end=' ')\n",
    "print(city.values[0],end=' ')\n",
    "b=a[(a['City']==city.index[0])]\n",
    "city_group=b['Group'].value_counts()\n",
    "print(city_group.index[1])"
   ]
  },
  {
   "cell_type": "markdown",
   "id": "667193dc",
   "metadata": {},
   "source": [
    "Problem Statement :\n",
    "There was formation of new government in India on 26 May 2014. So current government's span is from 26th May 2014 to current. Find out two things from this period-\n",
    "1. Total number of attacks done in this period in India. Find this count as integer.\n",
    "2. Which Terrorist group was most active in this period in India. Most active means, group which has done maximum number of attacks. \n",
    "3.Ignore the Unknown group. "
   ]
  },
  {
   "cell_type": "code",
   "execution_count": 2,
   "id": "aa31263b",
   "metadata": {},
   "outputs": [
    {
     "name": "stdout",
     "output_type": "stream",
     "text": [
      "3336 Maoists\n"
     ]
    }
   ],
   "source": [
    "import pandas as pd\n",
    "df=pd.read_csv(\"terrorismData.csv\")\n",
    "data=df[df['Country']=='India']\n",
    "\n",
    "data=data[(data['Year']>2014) | (((data['Year']==2014) & (data['Month']>5)) | (((data['Year']==2014) & (data['Month']==5) & (data['Day']>25))))]\n",
    "group={}\n",
    "total_attack=0\n",
    "for g in data['Group']:\n",
    "    total_attack+=1\n",
    "    if g!='Unknown':\n",
    "        group[g]=group.get(g,0)+1\n",
    "print(total_attack,end=\" \")\n",
    "most_active_group=''\n",
    "count=0\n",
    "for i in group:\n",
    "    if count<group[i]:\n",
    "        count=group[i]\n",
    "        most_active_group=i\n",
    "print(most_active_group)"
   ]
  },
  {
   "cell_type": "markdown",
   "id": "8f3372a4",
   "metadata": {},
   "source": [
    "Problem Statement :\n",
    "Find the frequency of the Casualty in Red Corridor states and in Jammu and Kashmir ?Here Frequency is (Total Casualty/Total Number of a year)\n",
    "Print frequency as integer value.\n",
    "Note:Red Corridor state includes Jharkhand, Odisha, Andhra Pradesh, and Chhattisgarh. Here Casualty=Killed +Wounded.Don't fill the nan value present in Killed and Wounded feature."
   ]
  },
  {
   "cell_type": "code",
   "execution_count": 3,
   "id": "32f8ead3",
   "metadata": {},
   "outputs": [
    {
     "name": "stdout",
     "output_type": "stream",
     "text": [
      "115 261\n"
     ]
    }
   ],
   "source": [
    "import pandas as pd\n",
    "df=pd.read_csv('terrorismData.csv')\n",
    "state1=df[(df['State']=='Jharkhand') | (df['State']=='Odisha') | (df['State']=='Andhra Pradesh') | (df['State']=='Chhattisgarh')]\n",
    "state2=df[df['State']=='Jammu and Kashmir']\n",
    "\n",
    "casuality1=(state1['Killed']+state1['Wounded']).sum()\n",
    "casuality2=(state2['Killed']+state2['Wounded']).sum()\n",
    "all_year=len(set(df['Year']))\n",
    "print(int(casuality1/all_year),int(casuality2/all_year))\n"
   ]
  },
  {
   "cell_type": "markdown",
   "id": "4f0d4099",
   "metadata": {},
   "source": [
    "Problem Statement :\n",
    "Most Deadliest attack in a history of HumanKind?\n",
    "Print count of Killed people as integer value.\n",
    "Note: Here Deadliest attack means, in which the most number of people killed."
   ]
  },
  {
   "cell_type": "code",
   "execution_count": 4,
   "id": "9805c400",
   "metadata": {},
   "outputs": [
    {
     "name": "stdout",
     "output_type": "stream",
     "text": [
      "1570 Iraq Islamic State of Iraq and the Levant (ISIL)\n"
     ]
    }
   ],
   "source": [
    "import pandas as pd\n",
    "df=pd.read_csv('terrorismData.csv')\n",
    "max_killed=int(df['Killed'].describe()['max'])\n",
    "print(max_killed,end=' ')\n",
    "c=df[df['Killed']==max_killed]\n",
    "print(c.values[0][3],end=' ')\n",
    "print(c.values[0][14])"
   ]
  },
  {
   "cell_type": "markdown",
   "id": "7ba05748",
   "metadata": {},
   "source": [
    "Problem Statement :\n",
    "Find out the Country with Highest Number of Terror Attack and in which year the most number of terrorist attack happened in that country ?\n",
    "Print count of terror attacks as integer value."
   ]
  },
  {
   "cell_type": "code",
   "execution_count": 5,
   "id": "66a5163b",
   "metadata": {},
   "outputs": [
    {
     "name": "stdout",
     "output_type": "stream",
     "text": [
      "Iraq 24636 2014\n"
     ]
    }
   ],
   "source": [
    "import pandas as pd\n",
    "df=pd.read_csv('terrorismData.csv')\n",
    "file=df['Country'].value_counts()\n",
    "df[df['Country']==file.index[0]]\n",
    "print(file.index[0],end=' ')\n",
    "print(file.values[0],end=' ')\n",
    "print(df['Year'].value_counts().index[0])"
   ]
  },
  {
   "cell_type": "code",
   "execution_count": null,
   "id": "de56983a",
   "metadata": {},
   "outputs": [],
   "source": []
  }
 ],
 "metadata": {
  "kernelspec": {
   "display_name": "Python 3",
   "language": "python",
   "name": "python3"
  },
  "language_info": {
   "codemirror_mode": {
    "name": "ipython",
    "version": 3
   },
   "file_extension": ".py",
   "mimetype": "text/x-python",
   "name": "python",
   "nbconvert_exporter": "python",
   "pygments_lexer": "ipython3",
   "version": "3.8.8"
  }
 },
 "nbformat": 4,
 "nbformat_minor": 5
}
