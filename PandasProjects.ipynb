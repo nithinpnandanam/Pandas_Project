{
 "cells": [
  {
   "cell_type": "markdown",
   "id": "5ea23e25",
   "metadata": {},
   "source": [
    "Given file \"terrorismData.csv\"\n",
    "It is an open-source database including information on terrorist attacks around the world from 1970 through 2017. This dataset includes systematic data on domestic as well as international terrorist incidents that have occurred during this time period"
   ]
  },
  {
   "cell_type": "markdown",
   "id": "5e34ffb1",
   "metadata": {},
   "source": [
    "Problem Statement :\n",
    "The Most Dangerous city in Jammu and Kashmir and the terrorist group which is most active in that city?\n",
    "Print count of number of attacks in that city as integer value.\n",
    "Note:Ignoring the Unknown Terrorist Group.\n",
    "Here Dangerous related with the number of terrorist attacks."
   ]
  },
  {
   "cell_type": "code",
   "execution_count": 1,
   "id": "a878537e",
   "metadata": {},
   "outputs": [
    {
     "name": "stdout",
     "output_type": "stream",
     "text": [
      "Srinagar 657 Muslim Separatists\n"
     ]
    }
   ],
   "source": [
    "import pandas as pd\n",
    "df=pd.read_csv('terrorismData.csv')\n",
    "df=df[df['State']=='Jammu and Kashmir']\n",
    "# print(df.head())\n",
    "city=df['City'].value_counts()\n",
    "print(city.index[0],city.values[0],end=' ')\n",
    "gp=df[df['City']==city.index[0]]\n",
    "gp_most=gp['Group'].value_counts()\n",
    "print(gp_most.index[1])"
   ]
  },
  {
   "cell_type": "markdown",
   "id": "667193dc",
   "metadata": {},
   "source": [
    "Problem Statement :\n",
    "There was formation of new government in India on 26 May 2014. So current government's span is from 26th May 2014 to current. Find out two things from this period-\n",
    "1. Total number of attacks done in this period in India. Find this count as integer.\n",
    "2. Which Terrorist group was most active in this period in India. Most active means, group which has done maximum number of attacks. \n",
    "3.Ignore the Unknown group. "
   ]
  },
  {
   "cell_type": "code",
   "execution_count": 2,
   "id": "aa31263b",
   "metadata": {},
   "outputs": [
    {
     "name": "stdout",
     "output_type": "stream",
     "text": [
      "3336 Maoists\n"
     ]
    }
   ],
   "source": [
    "import pandas as pd\n",
    "df=pd.read_csv('terrorismData.csv')\n",
    "df=df[(df['Country']==\"India\")]\n",
    "df=df[((df['Year']==2014)&(df['Month']==5)&(df['Day']>=26)) | ((df['Year']==2014) & (df['Month']>5)) | (df['Year']>2014)]     \n",
    "print(int(df['Year'].describe().iloc[0]),end=' ')\n",
    "gp=df['Group'].value_counts()\n",
    "print(gp.index[1])"
   ]
  },
  {
   "cell_type": "markdown",
   "id": "8f3372a4",
   "metadata": {},
   "source": [
    "Problem Statement :\n",
    "Find the frequency of the Casualty in Red Corridor states and in Jammu and Kashmir ?Here Frequency is (Total Casualty/Total Number of a year)\n",
    "Print frequency as integer value.\n",
    "Note:Red Corridor state includes Jharkhand, Odisha, Andhra Pradesh, and Chhattisgarh. Here Casualty=Killed +Wounded.Don't fill the nan value present in Killed and Wounded feature."
   ]
  },
  {
   "cell_type": "code",
   "execution_count": 3,
   "id": "32f8ead3",
   "metadata": {},
   "outputs": [
    {
     "name": "stdout",
     "output_type": "stream",
     "text": [
      "115 261\n"
     ]
    }
   ],
   "source": [
    "import pandas as pd\n",
    "df=pd.read_csv('terrorismData.csv')\n",
    "df1=df[(df['State']==\"Jharkhand\")|(df['State']==\"Odisha\" )|(df['State']==\"Andhra Pradesh\")|(df['State']=='Chhattisgarh')]    \n",
    "df2=df[df['State']=='Jammu and Kashmir']\n",
    "total1=(df1['Killed']+df1['Wounded']).sum()\n",
    "total2=(df2['Killed']+df2['Wounded']).sum()\n",
    "my_set=set()\n",
    "for i in df['Year']:\n",
    "    my_set.add(i)\n",
    "length=len(my_set)\n",
    "print(int(total1/length),int(total2/length))"
   ]
  },
  {
   "cell_type": "markdown",
   "id": "4f0d4099",
   "metadata": {},
   "source": [
    "Problem Statement :\n",
    "Most Deadliest attack in a history of HumanKind?\n",
    "Print count of Killed people as integer value.\n",
    "Note: Here Deadliest attack means, in which the most number of people killed."
   ]
  },
  {
   "cell_type": "code",
   "execution_count": 4,
   "id": "9805c400",
   "metadata": {},
   "outputs": [
    {
     "name": "stdout",
     "output_type": "stream",
     "text": [
      "1570 Iraq Islamic State of Iraq and the Levant (ISIL)\n"
     ]
    }
   ],
   "source": [
    "import pandas as pd\n",
    "df=pd.read_csv('terrorismData.csv')\n",
    "df=df[df['Killed']==df['Killed'].max()]\n",
    "print(int(df['Killed'].iloc[0]),end=' ')\n",
    "print(df['Country'].iloc[0],end=' ')\n",
    "print(df['Group'].iloc[0])\n"
   ]
  },
  {
   "cell_type": "markdown",
   "id": "7ba05748",
   "metadata": {},
   "source": [
    "Problem Statement :\n",
    "Find out the Country with Highest Number of Terror Attack and in which year the most number of terrorist attack happened in that country ?\n",
    "Print count of terror attacks as integer value."
   ]
  },
  {
   "cell_type": "code",
   "execution_count": 5,
   "id": "66a5163b",
   "metadata": {},
   "outputs": [
    {
     "name": "stdout",
     "output_type": "stream",
     "text": [
      "Iraq 24636 2014\n"
     ]
    }
   ],
   "source": [
    "import pandas as pd\n",
    "df=pd.read_csv('terrorismData.csv')\n",
    "country=df['Country'].value_counts()\n",
    "print(country.index[0],end=' ')\n",
    "print(country.values[0],end=' ')\n",
    "year=df['Year'].value_counts()\n",
    "print(year.index[0])"
   ]
  },
  {
   "cell_type": "code",
   "execution_count": null,
   "id": "de56983a",
   "metadata": {},
   "outputs": [],
   "source": []
  }
 ],
 "metadata": {
  "kernelspec": {
   "display_name": "Python 3",
   "language": "python",
   "name": "python3"
  },
  "language_info": {
   "codemirror_mode": {
    "name": "ipython",
    "version": 3
   },
   "file_extension": ".py",
   "mimetype": "text/x-python",
   "name": "python",
   "nbconvert_exporter": "python",
   "pygments_lexer": "ipython3",
   "version": "3.8.8"
  }
 },
 "nbformat": 4,
 "nbformat_minor": 5
}
